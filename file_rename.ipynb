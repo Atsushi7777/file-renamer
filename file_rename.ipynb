{
 "cells": [
  {
   "cell_type": "code",
   "execution_count": 1,
   "id": "08d94d2d-8c26-43e2-bb1a-231dbd9e69f5",
   "metadata": {},
   "outputs": [],
   "source": [
    "import os"
   ]
  },
  {
   "cell_type": "code",
   "execution_count": 2,
   "id": "72b50801-adc0-44a5-a733-cef1b05a4bf4",
   "metadata": {},
   "outputs": [],
   "source": [
    "folder_path =\"./test_files\"\n",
    "\n",
    "files = sorted(os.listdir(folder_path))"
   ]
  },
  {
   "cell_type": "code",
   "execution_count": 3,
   "id": "5ae3f794-bd7e-42b1-8716-ca12deab183e",
   "metadata": {},
   "outputs": [
    {
     "data": {
      "text/plain": [
       "['IMG_1122.jpg',\n",
       " 'IMG_99322.jpg',\n",
       " 'doc_123.pdf',\n",
       " 'music_001.mp3',\n",
       " 'music_002.mp3']"
      ]
     },
     "execution_count": 3,
     "metadata": {},
     "output_type": "execute_result"
    }
   ],
   "source": [
    "files"
   ]
  },
  {
   "cell_type": "code",
   "execution_count": 4,
   "id": "c958bfad-6cd1-4543-93f9-61a5ca74500d",
   "metadata": {},
   "outputs": [
    {
     "name": "stdout",
     "output_type": "stream",
     "text": [
      "20250415_001.jpg\n",
      "20250415_002.jpg\n",
      "20250415_003.pdf\n",
      "20250415_004.mp3\n",
      "20250415_005.mp3\n"
     ]
    }
   ],
   "source": [
    "for i, filename in enumerate(files, 1):\n",
    "    ext =os.path.splitext(filename)[1]\n",
    "    new_name = f\"20250415_{i:03}{ext}\"\n",
    "    print(new_name)\n",
    "    os.rename(\n",
    "        os.path.join(folder_path, filename),\n",
    "        os.path.join(folder_path, new_name)\n",
    "    )"
   ]
  },
  {
   "cell_type": "code",
   "execution_count": 5,
   "id": "03eb984e-49f2-4b9c-876d-8e8894166f14",
   "metadata": {},
   "outputs": [
    {
     "data": {
      "text/plain": [
       "['IMG_1122.jpg',\n",
       " 'IMG_99322.jpg',\n",
       " 'doc_123.pdf',\n",
       " 'music_001.mp3',\n",
       " 'music_002.mp3']"
      ]
     },
     "execution_count": 5,
     "metadata": {},
     "output_type": "execute_result"
    }
   ],
   "source": [
    "files"
   ]
  },
  {
   "cell_type": "code",
   "execution_count": null,
   "id": "afed6c03-6918-4464-9fdf-d766ffffd1d7",
   "metadata": {},
   "outputs": [],
   "source": []
  }
 ],
 "metadata": {
  "kernelspec": {
   "display_name": "Python 3 (ipykernel)",
   "language": "python",
   "name": "python3"
  },
  "language_info": {
   "codemirror_mode": {
    "name": "ipython",
    "version": 3
   },
   "file_extension": ".py",
   "mimetype": "text/x-python",
   "name": "python",
   "nbconvert_exporter": "python",
   "pygments_lexer": "ipython3",
   "version": "3.11.8"
  }
 },
 "nbformat": 4,
 "nbformat_minor": 5
}
