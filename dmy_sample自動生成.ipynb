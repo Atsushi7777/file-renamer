{
 "cells": [
  {
   "cell_type": "code",
   "execution_count": 1,
   "id": "2351f873-0df2-4757-8221-89e4386bb916",
   "metadata": {},
   "outputs": [],
   "source": [
    "import os"
   ]
  },
  {
   "cell_type": "code",
   "execution_count": 3,
   "id": "cccf58f1-fbe6-49bf-9d86-ccbc3966c183",
   "metadata": {},
   "outputs": [],
   "source": [
    "folder = \"./test_files\"\n",
    "os.makedirs(folder, exist_ok=True)"
   ]
  },
  {
   "cell_type": "code",
   "execution_count": 4,
   "id": "b55c6268-a58a-4a43-8c97-bc79d5684f60",
   "metadata": {},
   "outputs": [
    {
     "name": "stdout",
     "output_type": "stream",
     "text": [
      "samplefileを作成しました！\n"
     ]
    }
   ],
   "source": [
    "sample_filenames = [\n",
    "    \"IMG_1122.jpg\",\n",
    "    \"IMG_99322.jpg\",\n",
    "    \"music_001.mp3\",\n",
    "    \"music_002.mp3\",\n",
    "    \"doc_123.pdf\"\n",
    "]\n",
    "\n",
    "for filename in sample_filenames:\n",
    "    path = os.path.join(folder, filename)\n",
    "    with open(path, 'w') as f:\n",
    "        f.write(\"\")\n",
    "print(\"samplefileを作成しました！\")"
   ]
  },
  {
   "cell_type": "code",
   "execution_count": null,
   "id": "2e7a9d18-93cf-433e-b209-e7d4d3269dbc",
   "metadata": {},
   "outputs": [],
   "source": []
  }
 ],
 "metadata": {
  "kernelspec": {
   "display_name": "Python 3 (ipykernel)",
   "language": "python",
   "name": "python3"
  },
  "language_info": {
   "codemirror_mode": {
    "name": "ipython",
    "version": 3
   },
   "file_extension": ".py",
   "mimetype": "text/x-python",
   "name": "python",
   "nbconvert_exporter": "python",
   "pygments_lexer": "ipython3",
   "version": "3.11.8"
  }
 },
 "nbformat": 4,
 "nbformat_minor": 5
}
